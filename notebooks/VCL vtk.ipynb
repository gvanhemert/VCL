{
 "cells": [
  {
   "cell_type": "code",
   "execution_count": 1,
   "id": "7fda1a92",
   "metadata": {},
   "outputs": [],
   "source": [
    "import os\n",
    "\n",
    "import xarray as xr\n",
    "import numpy as np\n",
    "\n",
    "\n",
    "import vtk as vtk\n",
    "from tvtk.api import tvtk, write_data\n",
    "\n",
    "from pathlib import Path"
   ]
  },
  {
   "cell_type": "code",
   "execution_count": 2,
   "id": "ec0b4fbc",
   "metadata": {},
   "outputs": [],
   "source": [
    "data_dir = Path(os.path.dirname(os.path.abspath(\"__file__\"))).parent.joinpath('data')\n",
    "\n",
    "# Dataset for ground water model (concentrations)\n",
    "# Dataset ds is ordered with (z,y,x) coordinates\n",
    "ds = xr.open_dataset(data_dir.joinpath('concentratie_data_gw_model.nc'))\n",
    "# Replace negative concentrations (due to model errors) with 0\n",
    "ds = ds.where((ds.conc >= 0) | ds.isnull(), other = 0)"
   ]
  },
  {
   "cell_type": "code",
   "execution_count": 3,
   "id": "12be2440",
   "metadata": {},
   "outputs": [],
   "source": [
    "# Create vtk pipeline\n",
    "data = np.array(ds.conc)\n",
    "data = data.swapaxes(0,2)\n",
    "data[np.isnan(data)] = -10 # Replace NaN values for it did not load properly\n",
    "r = tvtk.RectilinearGrid()\n",
    "r.point_data.scalars = data.ravel(order='F') # Order F due (x,y,z) order of dataset\n",
    "r.point_data.scalars.name = 'scalars'\n",
    "r.dimensions = data.shape\n",
    "r.x_coordinates = np.array(ds.x)\n",
    "r.y_coordinates = np.array(ds.y)\n",
    "r.z_coordinates = np.array(ds.z)"
   ]
  },
  {
   "cell_type": "code",
   "execution_count": 4,
   "id": "fcfaf7c1",
   "metadata": {},
   "outputs": [],
   "source": [
    "write_data(r, str(data_dir.joinpath('conc_no_nan_vtk.vtk')))"
   ]
  },
  {
   "cell_type": "code",
   "execution_count": null,
   "id": "8726ca60",
   "metadata": {},
   "outputs": [],
   "source": []
  }
 ],
 "metadata": {
  "kernelspec": {
   "display_name": "Python 3 (ipykernel)",
   "language": "python",
   "name": "python3"
  },
  "language_info": {
   "codemirror_mode": {
    "name": "ipython",
    "version": 3
   },
   "file_extension": ".py",
   "mimetype": "text/x-python",
   "name": "python",
   "nbconvert_exporter": "python",
   "pygments_lexer": "ipython3",
   "version": "3.9.16"
  }
 },
 "nbformat": 4,
 "nbformat_minor": 5
}
